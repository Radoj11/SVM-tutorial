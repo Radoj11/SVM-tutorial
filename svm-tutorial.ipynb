{
 "cells": [
  {
   "cell_type": "code",
   "execution_count": 1,
   "metadata": {},
   "outputs": [],
   "source": [
    "from sklearn.datasets import fetch_openml\n",
    "from sklearn import svm, datasets\n",
    "from sklearn.metrics import (auc, accuracy_score, precision_score, recall_score,\n",
    "                             f1_score, hinge_loss, plot_roc_curve, roc_curve,\n",
    "                             roc_auc_score, plot_precision_recall_curve,\n",
    "                             precision_recall_curve)\n",
    "from sklearn.model_selection import train_test_split, cross_val_score\n",
    "from sklearn.preprocessing import label_binarize\n",
    "from sklearn.decomposition import PCA\n",
    "from sklearn.preprocessing import StandardScaler\n",
    "\n",
    "import matplotlib.pyplot as plt\n",
    "import numpy as np\n",
    "import pandas as pd\n",
    "import random"
   ]
  },
  {
   "cell_type": "markdown",
   "metadata": {},
   "source": [
    "# Klasyfikatory SVM"
   ]
  },
  {
   "cell_type": "markdown",
   "metadata": {},
   "source": [
    "Zadaniem klasyfikatora SVM jest znalezienie hiperpłaszczyzny w N wymiarowej przestrzeni (gdzie N to liczba cech), która jak najlepiej przydziela podanym punktom klasy.\n",
    "- dla N = 1, hiperpłaszczyzną będzie punkt\n",
    "- dla N = 2, będzie to zwykła linia prosta\n",
    "- dla N = 3, będzie to płaszczyzna\n",
    "- ....."
   ]
  },
  {
   "cell_type": "markdown",
   "metadata": {},
   "source": [
    "Klasyfikator SVM potrafi jedynie rozdzielić punkty na dwie klasy."
   ]
  },
  {
   "cell_type": "markdown",
   "metadata": {},
   "source": [
    "Istnieje wile hyperpłaszczyzn (na rysunku N = 2 => linia), które poprawnie przydzialą klasy poszczególnym punktom"
   ]
  },
  {
   "cell_type": "markdown",
   "metadata": {},
   "source": [
    "![title](./gfx/possible_lines.png)"
   ]
  },
  {
   "cell_type": "markdown",
   "metadata": {},
   "source": [
    "ale nas interesuje ta linia, która, ma optymalny margines:"
   ]
  },
  {
   "cell_type": "markdown",
   "metadata": {},
   "source": [
    "![title](./gfx/optimal_margin.png)"
   ]
  },
  {
   "cell_type": "markdown",
   "metadata": {},
   "source": [
    "Margines wybieramy za pomocą metody zwanej Cross-Validation (o której więcej napisane jest niżej).\n",
    "\n",
    "W SVM używamy soft-margin, czyli pozwalamy na niepoprawną klasyfikację niektórych punktów, o ile opłaci się to w przyszłoci.\n",
    "\n",
    "Przykład:\n"
   ]
  },
  {
   "cell_type": "markdown",
   "metadata": {},
   "source": [
    "<img src=\"./gfx/soft_margin.png\" width=\"80%\">"
   ]
  },
  {
   "cell_type": "markdown",
   "metadata": {},
   "source": [
    "W powyższym przykładzie, pozwalamy na to, żeby jedna czerwona kropka były zaklasyfikowana jako zielona, bo zostawiamy więcej miejsca na przyszłe kropki, które będziemy chcieli sklasyfikować. \n",
    "\n",
    "W Cross-Validation ustalamy ile błędnych pomiarów pozwalamy wewnątrz soft-margin."
   ]
  },
  {
   "cell_type": "markdown",
   "metadata": {},
   "source": [
    "Dużą zaletą SVM jest to, że potrafi on poprawnie klasyfikować dane, które nie są liniowe.\n",
    "\n",
    "Przykład: Mamy dane jaka dawka leku potrafi skutecznie wyleczyć pacjentów. Nie może być to dawka zbyt mała i zbyt duża:"
   ]
  },
  {
   "cell_type": "code",
   "execution_count": 2,
   "metadata": {},
   "outputs": [
    {
     "data": {
      "text/plain": [
       "<matplotlib.legend.Legend at 0x7f70d4d51190>"
      ]
     },
     "execution_count": 2,
     "metadata": {},
     "output_type": "execute_result"
    },
    {
     "data": {
      "image/png": "[encoded data removed]",
      "text/plain": [
       "<Figure size 432x288 with 1 Axes>"
      ]
     },
     "metadata": {
      "needs_background": "light"
     },
     "output_type": "display_data"
    }
   ],
   "source": [
    "bad_dosages = np.array([1,2,3,4,12,13.5,14])\n",
    "good_dosages = np.array([6,6.5,7,7.4,7.8,8,8.3,8.4])\n",
    "plt.scatter(x=bad_dosages, y=[1]*len(bad_dosages),c='red',label='bad')\n",
    "plt.scatter(x=good_dosages, y=[1]*len(good_dosages),c='green',label='good')\n",
    "plt.yticks([])\n",
    "plt.xlabel('dawka')\n",
    "plt.legend()"
   ]
  },
  {
   "cell_type": "markdown",
   "metadata": {},
   "source": [
    "Widzimy, że klasyfikator liniowy, nie jest w stanie poprawnie oddzielić czerwoych i zielonych kropek.\n",
    "\n",
    "Ale w SVM, wybierzemy N = 2 (czyli zwiększymy wymiarowosć danych), podniesiemy do kwadratu wartosci dawkowania (z osi OX)\n",
    "i dzięki temu, będziemy już w stanie poprawnie zaklasyfikować dawkowanie:"
   ]
  },
  {
   "cell_type": "code",
   "execution_count": 3,
   "metadata": {},
   "outputs": [
    {
     "data": {
      "text/plain": [
       "<matplotlib.legend.Legend at 0x7f70d488cac0>"
      ]
     },
     "execution_count": 3,
     "metadata": {},
     "output_type": "execute_result"
    },
    {
     "data": {
      "image/png": "[encoded data removed]",
      "text/plain": [
       "<Figure size 432x288 with 1 Axes>"
      ]
     },
     "metadata": {
      "needs_background": "light"
     },
     "output_type": "display_data"
    }
   ],
   "source": [
    "bad_s = bad_dosages**2\n",
    "good_s = good_dosages**2\n",
    "plt.scatter(x=bad_dosages, y=bad_s,c='red',label='bad')\n",
    "plt.scatter(x=good_dosages, y=good_s,c='green',label='good')\n",
    "plt.xlabel('dawka')\n",
    "plt.ylabel('dawka^2')\n",
    "plt.legend()"
   ]
  },
  {
   "cell_type": "markdown",
   "metadata": {},
   "source": [
    "Dzięki temu zabiegowi, jestesmy w stanie znaleźć prostą, oddzielającą czerwone i zielone punkty"
   ]
  },
  {
   "cell_type": "code",
   "execution_count": 4,
   "metadata": {},
   "outputs": [
    {
     "data": {
      "text/plain": [
       "<matplotlib.legend.Legend at 0x7f70d4838880>"
      ]
     },
     "execution_count": 4,
     "metadata": {},
     "output_type": "execute_result"
    },
    {
     "data": {
      "image/png": "[encoded data removed]",
      "text/plain": [
       "<Figure size 432x288 with 1 Axes>"
      ]
     },
     "metadata": {
      "needs_background": "light"
     },
     "output_type": "display_data"
    }
   ],
   "source": [
    "a = 15\n",
    "b = -50\n",
    "\n",
    "xs = np.array(list(range(1,15)))\n",
    "\n",
    "plt.scatter(x=bad_dosages, y=bad_s,c='red',label='bad')\n",
    "plt.scatter(x=good_dosages, y=good_s,c='green',label='good')\n",
    "plt.xlabel('dawka')\n",
    "plt.ylabel('dawka^2')\n",
    "plt.plot(xs, xs*a+b, '-')\n",
    "plt.legend()\n"
   ]
  },
  {
   "cell_type": "markdown",
   "metadata": {},
   "source": [
    "## Kernel Trick"
   ]
  },
  {
   "cell_type": "markdown",
   "metadata": {},
   "source": [
    "Zapewne zastanawiacie się co decyduje o tym jakiej transformacji dokonujemy na danych aby otrzymać stosowny SVC. Dlaczego coś jest np. podnoszone do kwadratu a nie logarytmowane czy mnożone razy 7?\n",
    "Z pomocą przychodzą tutaj tzw. *kernel functions*, które powzwalają na systematyczne znajdywanie SVC w wyższych wymiarach. Istnieje wiele rodzajów kerneli (liniowy, wielomianowy, radialny...).\n",
    "\n",
    "Weźmy na przykład kernel wielomianowy, który jako parametr przyjmuje stopień wielomianu. Działa on w następujący sposób:\n",
    "Mając dane *d* (stopień wielomianu) oblicza *d-wymiarowe* relacje pomiędzy każdą parą obserwacji, a następnie na ich podstawie znajduje odpowiedni SVC.\n",
    "Tak więc jeśli d = 1, kernel zbada relacje pomiędzy wszystkimi parami w przestrzeni 1D:\n",
    "\n",
    "![1D-relationship-comparition](./gfx/kernel_ex.svg)\n",
    "\n",
    "I wyznaczy na ich podstawie SVC:\n",
    "\n",
    "![1D-SVC](./gfx/kernel_ex2.svg)\n",
    "\n",
    "Tak samo dla d = 2, 3, ...\n",
    "\n",
    "Jednak transformacja zbiorów danych do wyższych wymiarów jest bardzo kosztowna. Dlatego też używany jest tzw. __*Kernel Trick (trik kernelowy)*__, który umożliwia obliczanie relacji wysokowymiarowych bez faktycznego przekształcania danych do wyższych wymiarów"
   ]
  },
  {
   "cell_type": "markdown",
   "metadata": {},
   "source": [
    "## Cross-validation"
   ]
  },
  {
   "cell_type": "markdown",
   "metadata": {},
   "source": [
    "### ROC"
   ]
  },
  {
   "cell_type": "markdown",
   "metadata": {},
   "source": [
    "Krzywa ROC to jeden ze sposobów wizualizacji jakości klasyfikacji, pokazujący zależności wskaźników TPR (True Positive Rate) oraz FPR (False Positive Rate).\n",
    "Im wykres bardziej ”wypukły”(bardziej wygięty ku górnemu lewemu narożnikowi), tym lepszy klasyfikator.\n",
    "Przekątna odpowiada losowemu „zgadywaniu”.\n",
    "\n",
    "\n",
    "![ROC](./gfx/roc2.png)\n",
    "    \n",
    "\n",
    "### Ocena klasyfikatora na podstawie ROC\n",
    "\n",
    "Jakość klasyfikacji za pomocą krzywej ROC można ocenić wyliczając takie wskaźniki jak:\n",
    "- pole pod krzywą (AUC) (Area Under ROC Curve)\n",
    "    - Im większe AUC tym lepiej: AUC = 1 (klasyfikator idealny), AUC = 0.5 (klasyfikator losowy), AUC < 0.5 (nieprawidłowy klasyfikator (gorszy niż losowy)).\n",
    "- współczynnik Giniego: GC = 2*AUC-1 (wyższość klasyfikatora nad losowym).\n",
    "    - Im większy GC tym lepiej: GC = 1 (klasyfikator idealny), GC = 0 (klasyfikator losowy)."
   ]
  },
  {
   "cell_type": "markdown",
   "metadata": {},
   "source": [
    "### Precision-Recall\n",
    "- Za dokładność rozpoznania w obrębie klasy odpowiada miara precision.\n",
    "    - jest to stosunek poprawnie sklasyfikowanych elementów (True Positive) do wszystkich, które nasz klasyfikator oznaczył jako poprawne (True Positive + False Positive)\n",
    "- Za rozpoznanie ilości elementów z klasy odpowiada miara recall.\n",
    "    - jst to stosunek poprawnie rozpoznanych elementów (TP) do wszystkich, które powinien rozpoznać (TP+FN)\n",
    "    \n",
    "![](./gfx/Precisionrecall.svg)"
   ]
  },
  {
   "cell_type": "markdown",
   "metadata": {},
   "source": [
    "### F1 score\n",
    "Jest to miara łącząca w sobie Precision i Recall. Miara ta jest pomocna do znalezienia równowagi pomiędzy precyzją a recall.\n",
    "\n",
    "Sprawa jest prosta, gdy wszystkie wartości są dla jednego z nich większe, ale co w sytuacji, gdy w jednym większe jest precision, a w drugim recall.\n",
    "Rozwiazaniem może być uśrednienie wyniku, niestety zwykła śrendia arytmetyczna nie oddaje dobrze różnic pomiędzy klasyfikatorami. \n",
    "Najlepszym rozwiązaniem będzie zastosowanie śrendiej harmonicznej:\n",
    "\n",
    "![](./gfx/formula.png)\n",
    "\n",
    "Beta jest parametrem, który określa \"ważność\" danej miary:\n",
    "- precision i recall tak samo ważne\n",
    "- β=0.5 precision ważniejsze\n",
    "- β=2 recall ważniejszy"
   ]
  },
  {
   "cell_type": "markdown",
   "metadata": {},
   "source": [
    "# Prezentacja działania SVM na zbiorze WBC"
   ]
  },
  {
   "cell_type": "markdown",
   "metadata": {},
   "source": [
    "### Przygotowanie zbioru"
   ]
  },
  {
   "cell_type": "code",
   "execution_count": 5,
   "metadata": {},
   "outputs": [],
   "source": [
    "cancer = datasets.load_breast_cancer()"
   ]
  },
  {
   "cell_type": "markdown",
   "metadata": {},
   "source": [
    "Dane to 30 kolumn opisujące każdy przypadek"
   ]
  },
  {
   "cell_type": "code",
   "execution_count": 6,
   "metadata": {},
   "outputs": [
    {
     "name": "stdout",
     "output_type": "stream",
     "text": [
      "['mean radius' 'mean texture' 'mean perimeter' 'mean area'\n",
      " 'mean smoothness' 'mean compactness' 'mean concavity'\n",
      " 'mean concave points' 'mean symmetry' 'mean fractal dimension'\n",
      " 'radius error' 'texture error' 'perimeter error' 'area error'\n",
      " 'smoothness error' 'compactness error' 'concavity error'\n",
      " 'concave points error' 'symmetry error' 'fractal dimension error'\n",
      " 'worst radius' 'worst texture' 'worst perimeter' 'worst area'\n",
      " 'worst smoothness' 'worst compactness' 'worst concavity'\n",
      " 'worst concave points' 'worst symmetry' 'worst fractal dimension']\n"
     ]
    }
   ],
   "source": [
    "print(cancer.feature_names)"
   ]
  },
  {
   "cell_type": "code",
   "execution_count": 7,
   "metadata": {},
   "outputs": [
    {
     "name": "stdout",
     "output_type": "stream",
     "text": [
      "['malignant' 'benign']\n"
     ]
    }
   ],
   "source": [
    "print(cancer.target_names)"
   ]
  },
  {
   "cell_type": "code",
   "execution_count": 8,
   "metadata": {},
   "outputs": [],
   "source": [
    "X, Y = cancer.data, cancer.target\n",
    "\n",
    "x_train, x_test, y_train, y_test = train_test_split(X, Y, train_size=0.8)\n",
    "\n",
    "def fit_model(data_x, data_y,kernel='linear' ):\n",
    "    clf = svm.SVC(kernel=kernel)\n",
    "    clf.fit(data_x,data_y)\n",
    "    return clf\n",
    "\n",
    "\n",
    "def calculate_using(kernel='linear'):\n",
    "    clf = fit_model( x_train, y_train, kernel)\n",
    "    y_pred = clf.predict(x_test)\n",
    "    \n",
    "    a_score = accuracy_score(y_test,y_pred)\n",
    "    cv_scores = cross_val_score(clf, X, Y, cv=5)\n",
    "    h_loss = hinge_loss(y_test, y_pred)\n",
    "    p_score = precision_score(y_test, y_pred)\n",
    "    r_score = recall_score(y_test, y_pred)\n",
    "    f_score = f1_score(y_test, y_pred)\n",
    "    \n",
    "    single_scored = {\n",
    "        'accuracy_score': a_score,\n",
    "        'hinge_loss': h_loss,\n",
    "        'precission_score': p_score,\n",
    "        'recall_score': r_score,\n",
    "        'f1_score': f_score\n",
    "    }\n",
    "    \n",
    "    return single_scored, cv_scores"
   ]
  },
  {
   "cell_type": "code",
   "execution_count": 9,
   "metadata": {},
   "outputs": [],
   "source": [
    "def get_kernel_scores(kernel_name, frame_data, cv_data):\n",
    "    single_scored, cv = calculate_using(kernel_name)\n",
    "    frame_data.append([kernel_name] + list(single_scored.values()))\n",
    "    cv_data.append([kernel_name] + list(cv))"
   ]
  },
  {
   "cell_type": "markdown",
   "metadata": {},
   "source": [
    "### Obliczanie wynikow dla kerneli (liniowy, wielomianowy, rbf)"
   ]
  },
  {
   "cell_type": "code",
   "execution_count": 10,
   "metadata": {},
   "outputs": [],
   "source": [
    "frame_data = []\n",
    "cv_data = []\n",
    "get_kernel_scores('linear', frame_data, cv_data)\n",
    "get_kernel_scores('poly', frame_data, cv_data)\n",
    "get_kernel_scores('rbf', frame_data, cv_data)"
   ]
  },
  {
   "cell_type": "code",
   "execution_count": 11,
   "metadata": {
    "scrolled": true
   },
   "outputs": [
    {
     "data": {
      "text/html": [
       "<div>\n",
       "<style scoped>\n",
       "    .dataframe tbody tr th:only-of-type {\n",
       "        vertical-align: middle;\n",
       "    }\n",
       "\n",
       "    .dataframe tbody tr th {\n",
       "        vertical-align: top;\n",
       "    }\n",
       "\n",
       "    .dataframe thead th {\n",
       "        text-align: right;\n",
       "    }\n",
       "</style>\n",
       "<table border=\"1\" class=\"dataframe\">\n",
       "  <thead>\n",
       "    <tr style=\"text-align: right;\">\n",
       "      <th></th>\n",
       "      <th>kernel</th>\n",
       "      <th>accuracy_score</th>\n",
       "      <th>hinge_loss</th>\n",
       "      <th>precission_score</th>\n",
       "      <th>recall_score</th>\n",
       "      <th>f1_score</th>\n",
       "    </tr>\n",
       "  </thead>\n",
       "  <tbody>\n",
       "    <tr>\n",
       "      <th>0</th>\n",
       "      <td>linear</td>\n",
       "      <td>0.938596</td>\n",
       "      <td>0.403509</td>\n",
       "      <td>0.947368</td>\n",
       "      <td>0.96</td>\n",
       "      <td>0.953642</td>\n",
       "    </tr>\n",
       "    <tr>\n",
       "      <th>1</th>\n",
       "      <td>poly</td>\n",
       "      <td>0.903509</td>\n",
       "      <td>0.438596</td>\n",
       "      <td>0.900000</td>\n",
       "      <td>0.96</td>\n",
       "      <td>0.929032</td>\n",
       "    </tr>\n",
       "    <tr>\n",
       "      <th>2</th>\n",
       "      <td>rbf</td>\n",
       "      <td>0.903509</td>\n",
       "      <td>0.438596</td>\n",
       "      <td>0.900000</td>\n",
       "      <td>0.96</td>\n",
       "      <td>0.929032</td>\n",
       "    </tr>\n",
       "  </tbody>\n",
       "</table>\n",
       "</div>"
      ],
      "text/plain": [
       "   kernel  accuracy_score  hinge_loss  precission_score  recall_score  \\\n",
       "0  linear        0.938596    0.403509          0.947368          0.96   \n",
       "1    poly        0.903509    0.438596          0.900000          0.96   \n",
       "2     rbf        0.903509    0.438596          0.900000          0.96   \n",
       "\n",
       "   f1_score  \n",
       "0  0.953642  \n",
       "1  0.929032  \n",
       "2  0.929032  "
      ]
     },
     "execution_count": 11,
     "metadata": {},
     "output_type": "execute_result"
    }
   ],
   "source": [
    "frame = pd.DataFrame(frame_data, columns=[\"kernel\", \"accuracy_score\", \"hinge_loss\", \"precission_score\", \"recall_score\", \"f1_score\"])\n",
    "frame"
   ]
  },
  {
   "cell_type": "code",
   "execution_count": 12,
   "metadata": {
    "scrolled": true
   },
   "outputs": [
    {
     "data": {
      "text/html": [
       "<div>\n",
       "<style scoped>\n",
       "    .dataframe tbody tr th:only-of-type {\n",
       "        vertical-align: middle;\n",
       "    }\n",
       "\n",
       "    .dataframe tbody tr th {\n",
       "        vertical-align: top;\n",
       "    }\n",
       "\n",
       "    .dataframe thead th {\n",
       "        text-align: right;\n",
       "    }\n",
       "</style>\n",
       "<table border=\"1\" class=\"dataframe\">\n",
       "  <thead>\n",
       "    <tr style=\"text-align: right;\">\n",
       "      <th></th>\n",
       "      <th>kernel</th>\n",
       "      <th>cv score 1</th>\n",
       "      <th>cv score 2</th>\n",
       "      <th>cv score 3</th>\n",
       "      <th>cv score 4</th>\n",
       "      <th>cv score 5</th>\n",
       "    </tr>\n",
       "  </thead>\n",
       "  <tbody>\n",
       "    <tr>\n",
       "      <th>0</th>\n",
       "      <td>linear</td>\n",
       "      <td>0.947368</td>\n",
       "      <td>0.929825</td>\n",
       "      <td>0.973684</td>\n",
       "      <td>0.921053</td>\n",
       "      <td>0.955752</td>\n",
       "    </tr>\n",
       "    <tr>\n",
       "      <th>1</th>\n",
       "      <td>poly</td>\n",
       "      <td>0.842105</td>\n",
       "      <td>0.885965</td>\n",
       "      <td>0.929825</td>\n",
       "      <td>0.947368</td>\n",
       "      <td>0.938053</td>\n",
       "    </tr>\n",
       "    <tr>\n",
       "      <th>2</th>\n",
       "      <td>rbf</td>\n",
       "      <td>0.850877</td>\n",
       "      <td>0.894737</td>\n",
       "      <td>0.929825</td>\n",
       "      <td>0.947368</td>\n",
       "      <td>0.938053</td>\n",
       "    </tr>\n",
       "  </tbody>\n",
       "</table>\n",
       "</div>"
      ],
      "text/plain": [
       "   kernel  cv score 1  cv score 2  cv score 3  cv score 4  cv score 5\n",
       "0  linear    0.947368    0.929825    0.973684    0.921053    0.955752\n",
       "1    poly    0.842105    0.885965    0.929825    0.947368    0.938053\n",
       "2     rbf    0.850877    0.894737    0.929825    0.947368    0.938053"
      ]
     },
     "execution_count": 12,
     "metadata": {},
     "output_type": "execute_result"
    }
   ],
   "source": [
    "cv_frame = pd.DataFrame(cv_data, columns=[\"kernel\", \"cv score 1\", \"cv score 2\", \"cv score 3\", \"cv score 4\", \"cv score 5\"])\n",
    "cv_frame"
   ]
  },
  {
   "cell_type": "markdown",
   "metadata": {},
   "source": [
    "### Krzywe ROC i PR dla kernela wielomianowego"
   ]
  },
  {
   "cell_type": "code",
   "execution_count": 13,
   "metadata": {},
   "outputs": [],
   "source": [
    "clf = fit_model(x_train, y_train, kernel='poly')"
   ]
  },
  {
   "cell_type": "code",
   "execution_count": 14,
   "metadata": {
    "scrolled": true
   },
   "outputs": [
    {
     "data": {
      "text/plain": [
       "<sklearn.metrics._plot.roc_curve.RocCurveDisplay at 0x7f70d481d760>"
      ]
     },
     "execution_count": 14,
     "metadata": {},
     "output_type": "execute_result"
    },
    {
     "data": {
      "image/png": "[encoded data removed]",
      "text/plain": [
       "<Figure size 432x288 with 1 Axes>"
      ]
     },
     "metadata": {
      "needs_background": "light"
     },
     "output_type": "display_data"
    }
   ],
   "source": [
    "plot_roc_curve(clf, x_test, y_test)"
   ]
  },
  {
   "cell_type": "code",
   "execution_count": 15,
   "metadata": {
    "scrolled": true
   },
   "outputs": [
    {
     "data": {
      "text/plain": [
       "<sklearn.metrics._plot.precision_recall_curve.PrecisionRecallDisplay at 0x7f70d6fef100>"
      ]
     },
     "execution_count": 15,
     "metadata": {},
     "output_type": "execute_result"
    },
    {
     "data": {
      "image/png": "[encoded data removed]",
      "text/plain": [
       "<Figure size 432x288 with 1 Axes>"
      ]
     },
     "metadata": {
      "needs_background": "light"
     },
     "output_type": "display_data"
    }
   ],
   "source": [
    "plot_precision_recall_curve(clf , x_test, y_test)"
   ]
  },
  {
   "cell_type": "markdown",
   "metadata": {},
   "source": [
    "### Powierzchnie pod krzywymi"
   ]
  },
  {
   "cell_type": "code",
   "execution_count": 16,
   "metadata": {},
   "outputs": [
    {
     "name": "stdout",
     "output_type": "stream",
     "text": [
      "Area under ROC: 0.8774358974358976\n",
      "Area under PR: 0.2852631578947368\n"
     ]
    }
   ],
   "source": [
    "y_pred = clf.predict(x_test)\n",
    "\n",
    "roc_auc = roc_auc_score(y_test, y_pred)\n",
    "fpr, tpr, _ = precision_recall_curve(y_test,  y_pred)\n",
    "\n",
    "pr_auc = auc(fpr, tpr)\n",
    "\n",
    "print(f\"Area under ROC: {roc_auc}\")\n",
    "print(f\"Area under PR: {pr_auc}\")"
   ]
  },
  {
   "cell_type": "markdown",
   "metadata": {},
   "source": [
    "# Wyniki z metodą PCA"
   ]
  },
  {
   "cell_type": "code",
   "execution_count": 17,
   "metadata": {},
   "outputs": [],
   "source": [
    "scaler = StandardScaler()\n",
    "\n",
    "scaler.fit(X)\n",
    "\n",
    "#normalizacja cech\n",
    "x_train_scaled = scaler.transform(x_train)\n",
    "x_test_scaled = scaler.transform(x_test)\n",
    "x_scaled = scaler.transform(X)"
   ]
  },
  {
   "cell_type": "markdown",
   "metadata": {},
   "source": [
    "#### Podgląd całego zbioru danych używając metody PCA"
   ]
  },
  {
   "cell_type": "code",
   "execution_count": 18,
   "metadata": {},
   "outputs": [
    {
     "data": {
      "image/png": "[encoded data removed]",
      "text/plain": [
       "<Figure size 432x288 with 1 Axes>"
      ]
     },
     "metadata": {
      "needs_background": "light"
     },
     "output_type": "display_data"
    }
   ],
   "source": [
    "pca = PCA(n_components=2)\n",
    "pca.fit(x_scaled)\n",
    "\n",
    "reduced_x = pca.transform(x_scaled)\n",
    "indexes_0 = Y == 0\n",
    "indexes_1 = Y == 1\n",
    "\n",
    "\n",
    "plt.scatter(reduced_x[indexes_0,0], reduced_x[indexes_0, 1], color = \"red\",label='malignant')\n",
    "plt.scatter(reduced_x[indexes_1,0], reduced_x[indexes_1, 1], color = \"green\", label='benign')\n",
    "plt.title(\"Whole dataset\")\n",
    "plt.legend()\n",
    "plt.show()\n",
    "plt.close()"
   ]
  },
  {
   "cell_type": "code",
   "execution_count": 19,
   "metadata": {},
   "outputs": [
    {
     "data": {
      "image/png": "[encoded data removed]",
      "text/plain": [
       "<Figure size 432x288 with 1 Axes>"
      ]
     },
     "metadata": {
      "needs_background": "light"
     },
     "output_type": "display_data"
    }
   ],
   "source": [
    "\n",
    "reduced_x_test = pca.transform(x_test_scaled)\n",
    "indexes_0_test = y_test == 0\n",
    "indexes_1_test = y_test == 1\n",
    "\n",
    "\n",
    "plt.scatter(reduced_x_test[indexes_0_test,0], reduced_x_test[indexes_0_test, 1], color = \"red\",label='malignant')\n",
    "plt.scatter(reduced_x_test[indexes_1_test,0], reduced_x_test[indexes_1_test, 1], color = \"green\", label='benign')\n",
    "plt.title(\"Test dataset\")\n",
    "plt.legend()\n",
    "plt.show()\n",
    "plt.close()"
   ]
  },
  {
   "cell_type": "code",
   "execution_count": 20,
   "metadata": {},
   "outputs": [
    {
     "data": {
      "image/png": "[encoded data removed]",
      "text/plain": [
       "<Figure size 432x288 with 1 Axes>"
      ]
     },
     "metadata": {
      "needs_background": "light"
     },
     "output_type": "display_data"
    },
    {
     "data": {
      "image/png": "[encoded data removed]",
      "text/plain": [
       "<Figure size 432x288 with 1 Axes>"
      ]
     },
     "metadata": {
      "needs_background": "light"
     },
     "output_type": "display_data"
    },
    {
     "data": {
      "image/png": "[encoded data removed]",
      "text/plain": [
       "<Figure size 432x288 with 1 Axes>"
      ]
     },
     "metadata": {
      "needs_background": "light"
     },
     "output_type": "display_data"
    }
   ],
   "source": [
    "kernels = ['poly', 'linear', 'rbf']\n",
    "\n",
    "indexes_0_test = y_test == 0\n",
    "indexes_1_test = y_test == 1\n",
    "\n",
    "for ker in kernels:\n",
    "    model = fit_model(x_train_scaled, y_train, ker)\n",
    "    model_y = model.predict(x_test_scaled)\n",
    "    \n",
    "    model_y_0 = model_y == 0\n",
    "    model_y_1 = model_y == 1\n",
    "    \n",
    "    good_model_0 = model_y_0 & indexes_0_test\n",
    "    bad_model_0 = (~good_model_0) & indexes_0_test\n",
    "    \n",
    "    \n",
    "    good_model_1 = model_y_1 & indexes_1_test\n",
    "    bad_model_1 = (~good_model_1) & indexes_1_test \n",
    "    \n",
    "\n",
    "    \n",
    "    plt.scatter(reduced_x_test[good_model_1,0], reduced_x_test[good_model_1, 1], color = \"lime\",label='benign classified ok')\n",
    "    plt.scatter(reduced_x_test[bad_model_1,0], reduced_x_test[bad_model_1, 1], color = \"darkgreen\",label='benign classified bad')\n",
    "    plt.scatter(reduced_x_test[good_model_0,0], reduced_x_test[good_model_0, 1], color = \"orangered\",label='malignant classified ok')\n",
    "    plt.scatter(reduced_x_test[bad_model_0,0], reduced_x_test[bad_model_0, 1], color = \"darkred\",label='malignant classified bad')\n",
    "    plt.title(\"Test dataset \" + ker)\n",
    "    plt.legend()\n",
    "    plt.show()\n",
    "    plt.close()\n",
    "    \n",
    "    "
   ]
  },
  {
   "cell_type": "markdown",
   "metadata": {},
   "source": [
    "# Zadania"
   ]
  },
  {
   "cell_type": "code",
   "execution_count": 21,
   "metadata": {},
   "outputs": [],
   "source": [
    "mnist = fetch_openml(\"mnist_784\", data_home=\"./mnist_784\")"
   ]
  },
  {
   "cell_type": "markdown",
   "metadata": {},
   "source": [
    "### Zadanie 1\n",
    "\n",
    "Na wybranych przez prowadzących tutorial zbiorach danych dokonać klasyfikacji metodą SVM dla różnych kerneli, oraz klasyfikacji metodą k-NN dla k=1,3 i 5. \n",
    "Podglądnąć otrzymane wyniki przy pomocy PCA.  \n",
    "Skomentować otrzymane wyniki.  "
   ]
  },
  {
   "cell_type": "code",
   "execution_count": 22,
   "metadata": {
    "scrolled": true
   },
   "outputs": [],
   "source": [
    "mnist_zipped = list(zip(mnist.data, mnist.target))\n",
    "mnist_random_sample = random.sample(mnist_zipped, len(mnist.data))\n",
    "X, Y = zip(*(mnist_random_sample))\n",
    "X = np.asarray(X)\n",
    "Y = np.asarray(Y)\n",
    "\n",
    "x_train, x_test, y_train, y_test = train_test_split(X, Y, train_size=0.9)"
   ]
  },
  {
   "cell_type": "code",
   "execution_count": 23,
   "metadata": {},
   "outputs": [],
   "source": [
    "# TODO \n",
    "\n",
    "# For linear kernel\n",
    "\n",
    "# For polymian kernel\n",
    "\n",
    "# For radial kernel"
   ]
  },
  {
   "cell_type": "markdown",
   "metadata": {},
   "source": [
    "##### MIEJSCE NA TWÓJ KOMENTARZ"
   ]
  },
  {
   "cell_type": "markdown",
   "metadata": {},
   "source": [
    "### Zadanie 2\n",
    "Zrobić to samo, ale redukując wcześniej wymiarowość danych metodą PCA z 784 do 30. \n",
    "Czy wyniki uległy poprawie? Jeżeli tak (nie) to dlaczego? Skomentować otrzymane wyniki"
   ]
  },
  {
   "cell_type": "code",
   "execution_count": 24,
   "metadata": {},
   "outputs": [],
   "source": [
    "# TODO \n",
    "\n",
    "# PCA for 30 element\n",
    "\n",
    "# For linear kernel\n",
    "\n",
    "# For polymian kernel\n",
    "\n",
    "# For radial kernel"
   ]
  },
  {
   "cell_type": "markdown",
   "metadata": {},
   "source": [
    "##### MIEJSCE NA TWÓJ KOMETARZ"
   ]
  }
 ],
 "metadata": {
  "kernelspec": {
   "display_name": "Python 3",
   "language": "python",
   "name": "python3"
  },
  "language_info": {
   "codemirror_mode": {
    "name": "ipython",
    "version": 3
   },
   "file_extension": ".py",
   "mimetype": "text/x-python",
   "name": "python",
   "nbconvert_exporter": "python",
   "pygments_lexer": "ipython3",
   "version": "3.8.2"
  }
 },
 "nbformat": 4,
 "nbformat_minor": 4
}
